{
 "cells": [
  {
   "attachments": {},
   "cell_type": "markdown",
   "metadata": {},
   "source": [
    "# implementação do modelo do problema da dieta para o caso específico visto em sala"
   ]
  },
  {
   "cell_type": "code",
   "execution_count": 1,
   "metadata": {},
   "outputs": [],
   "source": [
    "from mip import *"
   ]
  },
  {
   "attachments": {},
   "cell_type": "markdown",
   "metadata": {},
   "source": [
    "$$\\min 1.5 x_0 + 2 x_1 + 3 x_2 + 0.8 x_3$$\n",
    "S.a.\n",
    "$$7 x_0 + 8 x_1 + 30 x_2 + 6 x_3 \\geq 3$$\n",
    "$$550 x_0 + 300 x_1 + 400 x_2 + 250 x_3 \\geq 50$$\n",
    "$$x_0, x_1, x_2, x_3 \\geq 0$$"
   ]
  },
  {
   "cell_type": "code",
   "execution_count": 2,
   "metadata": {},
   "outputs": [
    {
     "name": "stdout",
     "output_type": "stream",
     "text": [
      "\\Problem name: \n",
      "\n",
      "Minimize\n",
      "OBJROW: 1.50000 x_0 + 2 x_1 + 3 x_2 + 0.80000 x_3\n",
      "Subject To\n",
      "constr(0):  7 x_0 + 8 x_1 + 30 x_2 + 6 x_3 >= 3\n",
      "constr(1):  550 x_0 + 300 x_1 + 400 x_2 + 250 x_3 >= 50\n",
      "Bounds\n",
      "End\n",
      "\n"
     ]
    }
   ],
   "source": [
    "modelo = Model(sense=MINIMIZE, solver_name=CBC)\n",
    "\n",
    "# Criação da variável\n",
    "x = [modelo.add_var(var_type=CONTINUOUS, name=f\"x_{i}\", lb=0.0) for i in range(4)]\n",
    "\n",
    "# Função objetivo = minimizar custo total\n",
    "modelo.objective = 1.5*x[0] + 2*x[1] + 3*x[2] + 0.8*x[3]\n",
    "\n",
    "# Restrição: quantidade minína de vitamina A\n",
    "modelo += 7*x[0] + 8*x[1] + 30*x[2] + 6*x[3] >= 3\n",
    "\n",
    "# Restrição: quantidade miníma de vitamina C\n",
    "modelo += 550*x[0] + 300*x[1] + 400*x[2] + 250*x[3] >= 50\n",
    "\n",
    "modelo.write(\"modelo.lp\") # salva modelo em arquivo\n",
    "with open(\"modelo.lp\") as f: # Lê e exibe conteúdo do arquivo\n",
    "  print(f.read())"
   ]
  },
  {
   "cell_type": "code",
   "execution_count": 3,
   "metadata": {},
   "outputs": [
    {
     "name": "stdout",
     "output_type": "stream",
     "text": [
      "Welcome to the CBC MILP Solver \n",
      "Version: Trunk\n",
      "Build Date: Oct 24 2021 \n",
      "\n",
      "Starting solution of the Linear programming problem using Primal Simplex\n",
      "\n",
      "Coin0506I Presolve 2 (0) rows, 4 (0) columns and 8 (0) elements\n",
      "Clp1000I sum of infeasibilities 0 - average 0, 1 fixed columns\n",
      "Coin0506I Presolve 2 (0) rows, 3 (-1) columns and 6 (-2) elements\n",
      "Clp0029I End of values pass after 3 iterations\n",
      "Clp0000I Optimal - objective value 0.31176471\n",
      "Clp0000I Optimal - objective value 0.31176471\n",
      "Coin0511I After Postsolve, objective 0.31176471, infeasibilities - dual 0 (0), primal 0 (0)\n",
      "Clp0000I Optimal - objective value 0.31176471\n",
      "Clp0000I Optimal - objective value 0.31176471\n",
      "Clp0000I Optimal - objective value 0.31176471\n",
      "Clp0032I Optimal objective 0.3117647059 - 0 iterations time 0.002, Idiot 0.00\n",
      "Status =  OptimizationStatus.OPTIMAL\n",
      "Solution value  = 0.3118\n",
      "\n",
      "Solution:\n",
      "x_0 = 0.0000\n",
      "x_1 = 0.0000\n",
      "x_2 = 0.0882\n",
      "x_3 = 0.0588\n"
     ]
    }
   ],
   "source": [
    "status = modelo.optimize()\n",
    "\n",
    "print(\"Status = \", status)\n",
    "print(f\"Solution value  = {modelo.objective_value:.4f}\\n\")\n",
    "\n",
    "print(\"Solution:\")\n",
    "for v in modelo.vars:\n",
    "  print(f\"{v.name} = {v.x:.4f}\")"
   ]
  },
  {
   "cell_type": "code",
   "execution_count": null,
   "metadata": {},
   "outputs": [],
   "source": []
  }
 ],
 "metadata": {
  "kernelspec": {
   "display_name": "Python 3",
   "language": "python",
   "name": "python3"
  },
  "language_info": {
   "codemirror_mode": {
    "name": "ipython",
    "version": 3
   },
   "file_extension": ".py",
   "mimetype": "text/x-python",
   "name": "python",
   "nbconvert_exporter": "python",
   "pygments_lexer": "ipython3",
   "version": "3.10.6"
  },
  "orig_nbformat": 4
 },
 "nbformat": 4,
 "nbformat_minor": 2
}
